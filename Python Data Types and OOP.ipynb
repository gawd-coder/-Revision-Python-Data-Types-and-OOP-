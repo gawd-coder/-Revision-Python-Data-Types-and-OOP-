{
 "cells": [
  {
   "cell_type": "code",
   "execution_count": 1,
   "metadata": {},
   "outputs": [],
   "source": [
    "import random\n",
    "import sys\n",
    "import os"
   ]
  },
  {
   "cell_type": "code",
   "execution_count": 2,
   "metadata": {},
   "outputs": [
    {
     "name": "stdout",
     "output_type": "stream",
     "text": [
      "\"ALways remeber you are unique\"\n"
     ]
    }
   ],
   "source": [
    "quote = \"\\\"ALways remeber you are unique\\\"\"\n",
    "print(quote)"
   ]
  },
  {
   "cell_type": "code",
   "execution_count": 3,
   "metadata": {},
   "outputs": [
    {
     "name": "stdout",
     "output_type": "stream",
     "text": [
      "Juice\n",
      "Peach\n",
      "['Peach', 'Potatoes', 'Tomatoes', 'Bananas']\n",
      "['Peach', 'Potatoes', 'Tomatoes', 'Bananas', 'Beer']\n",
      "['Peach', 'Pickle', 'Potatoes', 'Tomatoes', 'Bananas', 'Beer']\n",
      "['Beer', 'Bananas', 'Tomatoes', 'Potatoes', 'Pickle', 'Peach']\n",
      "Tomatoes\n"
     ]
    }
   ],
   "source": [
    "#list, they are mutable\n",
    "grocery = ['Juice','Potatoes','Tomatoes','Bananas']\n",
    "print(grocery[0])\n",
    "grocery[0] = 'Peach'\n",
    "print(grocery[0])\n",
    "print(grocery)\n",
    "grocery.append('Beer')\n",
    "print(grocery)\n",
    "grocery.insert(1,\"Pickle\")\n",
    "print(grocery)\n",
    "grocery.reverse()\n",
    "print(grocery)\n",
    "print(max(grocery))\n"
   ]
  },
  {
   "cell_type": "code",
   "execution_count": 4,
   "metadata": {},
   "outputs": [
    {
     "name": "stdout",
     "output_type": "stream",
     "text": [
      "1\n"
     ]
    }
   ],
   "source": [
    "#tuple are immutable\n",
    "num = (1,2,3,4,5)\n",
    "print(min(num))"
   ]
  },
  {
   "cell_type": "code",
   "execution_count": 5,
   "metadata": {},
   "outputs": [
    {
     "name": "stdout",
     "output_type": "stream",
     "text": [
      "<class 'dict'>\n",
      "MnC\n",
      "3\n",
      "dict_keys(['a', 'b', 'c'])\n",
      "dict_values(['CS', 'EC', 'MnC'])\n"
     ]
    }
   ],
   "source": [
    "#dictonaries/map\n",
    "department = {\n",
    "    'a' : \"CS\",\n",
    "    'b' : \"EC\",\n",
    "    'c' : \"MnC\",\n",
    "    'd' : \"EE\" \n",
    "}\n",
    "print(type(department))\n",
    "print(department['c'])\n",
    "del department['d']\n",
    "print(len(department))\n",
    "print(department.keys())\n",
    "print(department.values())"
   ]
  },
  {
   "cell_type": "code",
   "execution_count": 6,
   "metadata": {},
   "outputs": [
    {
     "name": "stdout",
     "output_type": "stream",
     "text": [
      "25\n",
      "4\n",
      "88\n",
      "89\n",
      "22\n",
      "44\n",
      "71\n",
      "4\n",
      "73\n",
      "19\n",
      "61\n",
      "30\n",
      "8\n",
      "72\n",
      "83\n",
      "99\n",
      "16\n",
      "47\n",
      "8\n",
      "85\n",
      "52\n",
      "60\n",
      "95\n",
      "10\n",
      "56\n",
      "18\n",
      "78\n",
      "44\n",
      "2\n",
      "48\n",
      "58\n",
      "0\n",
      "82\n",
      "41\n",
      "82\n",
      "99\n",
      "18\n",
      "18\n",
      "2\n",
      "92\n",
      "89\n",
      "29\n",
      "49\n",
      "8\n",
      "30\n",
      "24\n",
      "75\n",
      "75\n",
      "22\n",
      "77\n",
      "42\n",
      "70\n",
      "66\n",
      "16\n",
      "26\n",
      "45\n",
      "26\n",
      "94\n",
      "86\n",
      "66\n",
      "40\n",
      "47\n",
      "20\n",
      "47\n",
      "79\n",
      "49\n",
      "20\n",
      "6\n",
      "64\n",
      "67\n",
      "66\n",
      "73\n",
      "89\n",
      "93\n",
      "90\n",
      "99\n",
      "11\n",
      "44\n",
      "67\n",
      "58\n",
      "32\n",
      "67\n",
      "92\n",
      "39\n",
      "26\n",
      "96\n",
      "7\n",
      "31\n",
      "21\n",
      "83\n",
      "16\n",
      "39\n",
      "24\n",
      "11\n",
      "29\n",
      "47\n",
      "0\n",
      "2\n",
      "54\n",
      "71\n",
      "7\n",
      "19\n",
      "57\n",
      "94\n",
      "56\n",
      "45\n",
      "94\n",
      "92\n",
      "14\n",
      "25\n",
      "28\n",
      "37\n",
      "93\n",
      "53\n",
      "1\n",
      "70\n",
      "62\n",
      "94\n",
      "92\n",
      "23\n",
      "66\n",
      "93\n",
      "35\n",
      "91\n",
      "22\n",
      "6\n",
      "94\n",
      "2\n",
      "69\n",
      "47\n",
      "6\n",
      "23\n",
      "48\n",
      "45\n",
      "62\n",
      "94\n",
      "74\n",
      "37\n",
      "82\n",
      "66\n",
      "81\n",
      "32\n",
      "14\n",
      "39\n",
      "84\n",
      "1\n",
      "96\n",
      "17\n",
      "41\n",
      "9\n",
      "89\n",
      "9\n",
      "77\n",
      "27\n",
      "27\n",
      "53\n",
      "53\n",
      "62\n",
      "44\n",
      "28\n",
      "91\n",
      "46\n",
      "70\n",
      "85\n",
      "36\n",
      "96\n",
      "79\n",
      "92\n",
      "86\n",
      "67\n",
      "19\n",
      "99\n",
      "10\n",
      "81\n",
      "2\n",
      "19\n",
      "11\n",
      "23\n",
      "16\n",
      "21\n",
      "11\n",
      "28\n",
      "50\n",
      "3\n",
      "42\n",
      "28\n",
      "92\n",
      "99\n",
      "16\n",
      "36\n",
      "43\n",
      "23\n",
      "89\n",
      "5\n",
      "4\n",
      "75\n",
      "9\n",
      "11\n",
      "50\n",
      "1\n",
      "25\n",
      "22\n",
      "74\n",
      "72\n",
      "20\n",
      "2\n",
      "4\n",
      "87\n",
      "30\n",
      "20\n",
      "77\n",
      "41\n",
      "39\n",
      "14\n",
      "98\n",
      "18\n",
      "19\n"
     ]
    }
   ],
   "source": [
    "#random number generation\n",
    "random_num = random.randrange(0,100)\n",
    "while(random_num != 15):\n",
    "    print(random_num)\n",
    "    random_num = random.randrange(0,100)"
   ]
  },
  {
   "cell_type": "code",
   "execution_count": 7,
   "metadata": {},
   "outputs": [
    {
     "name": "stdout",
     "output_type": "stream",
     "text": [
      "again\n",
      "you are a fool if you trust \n",
      "You are a fool if you trust again\n",
      "4\n",
      "False\n",
      "you are a smart if you trust again\n",
      "you are a fool if you trust again\n",
      "['you', 'are', 'a', 'fool', 'if', 'you', 'trust', 'again']\n"
     ]
    }
   ],
   "source": [
    "sentence = \"you are a fool if you trust again\"\n",
    "print(sentence[-5:])\n",
    "print(sentence[:-5])\n",
    "#makes the first letter of sentence capital\n",
    "print(sentence.capitalize())\n",
    "print(sentence.find(\"a\"))\n",
    "#returns true if all the characters added in string are letters if blankspaces present then it gives false\n",
    "print(sentence.isalpha())   \n",
    "print(sentence.replace(\"fool\",\"smart\"))\n",
    "#this method returns a copy of string in which all methods have been removed from the beginning and end\n",
    "print (sentence.strip('a'))\n",
    "#split function\n",
    "print (sentence.split(\" \"))"
   ]
  },
  {
   "cell_type": "code",
   "execution_count": 8,
   "metadata": {},
   "outputs": [],
   "source": [
    "#We will create class called robot with attributes name,color,weight and function introduceSelf().We will be making 2 objects r1 and r2\n",
    "#it is manadatory to add self as an argument to every function we create in a class\n",
    "class robot:\n",
    "#creating a constructor\n",
    "    def __init__(self,name,color,weight):\n",
    "        self.name = name\n",
    "        self.color = color\n",
    "        self.weight = weight\n",
    "    def introduce_self(self):\n",
    "        print(\"My name is \" + self.name) \n",
    "    "
   ]
  },
  {
   "cell_type": "code",
   "execution_count": 9,
   "metadata": {},
   "outputs": [],
   "source": [
    "\"\"\"r1 = robot()\n",
    "r1.name = \"Tom\"\n",
    "r1.color = \"red\"\n",
    "r1.weight = 30\n",
    "\n",
    "r2 = robot()\n",
    "r2.name = \"Jerry\"\n",
    "r2.color = \"blue\"\n",
    "r2.weight = 40\"\"\"\n",
    "r1 = robot(\"Tom\",\"red\",30)\n",
    "r2 = robot(\"Jerry\",\"blue\",40)"
   ]
  },
  {
   "cell_type": "code",
   "execution_count": 10,
   "metadata": {},
   "outputs": [
    {
     "name": "stdout",
     "output_type": "stream",
     "text": [
      "My name is Tom\n",
      "My name is Jerry\n"
     ]
    }
   ],
   "source": [
    "r1.introduce_self()\n",
    "r2.introduce_self()"
   ]
  },
  {
   "cell_type": "code",
   "execution_count": 11,
   "metadata": {},
   "outputs": [],
   "source": [
    "class person:\n",
    "    def __init__(self,n,p,i):\n",
    "        self.name = n\n",
    "        self.personality = p\n",
    "        self.is_sitting = i\n",
    "    def sit_down(self) :\n",
    "        self.is_sitting = True\n",
    "    def stand_up(self):\n",
    "        self.is_sitting = False    "
   ]
  },
  {
   "cell_type": "code",
   "execution_count": 12,
   "metadata": {},
   "outputs": [],
   "source": [
    "p1 = person(\"Alice\",\"aggressive\",False)"
   ]
  },
  {
   "cell_type": "code",
   "execution_count": 13,
   "metadata": {},
   "outputs": [],
   "source": [
    "p2 = person(\"Ammar\",\"calm\",True)"
   ]
  },
  {
   "cell_type": "code",
   "execution_count": 15,
   "metadata": {},
   "outputs": [],
   "source": [
    "# lets say p1 owns r1\n",
    "p1.robot_owned = r1\n",
    "p2.robot_owned = r2"
   ]
  },
  {
   "cell_type": "code",
   "execution_count": 17,
   "metadata": {},
   "outputs": [
    {
     "name": "stdout",
     "output_type": "stream",
     "text": [
      "My name is Tom\n"
     ]
    }
   ],
   "source": [
    "p1.robot_owned.introduce_self()"
   ]
  },
  {
   "cell_type": "code",
   "execution_count": null,
   "metadata": {},
   "outputs": [],
   "source": []
  }
 ],
 "metadata": {
  "kernelspec": {
   "display_name": "Python 3",
   "language": "python",
   "name": "python3"
  },
  "language_info": {
   "codemirror_mode": {
    "name": "ipython",
    "version": 3
   },
   "file_extension": ".py",
   "mimetype": "text/x-python",
   "name": "python",
   "nbconvert_exporter": "python",
   "pygments_lexer": "ipython3",
   "version": "3.7.4"
  }
 },
 "nbformat": 4,
 "nbformat_minor": 2
}
